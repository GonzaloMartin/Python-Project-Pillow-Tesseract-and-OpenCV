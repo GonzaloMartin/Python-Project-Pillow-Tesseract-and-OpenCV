{
  "metadata": {
    "language_info": {
      "codemirror_mode": {
        "name": "python",
        "version": 3
      },
      "file_extension": ".py",
      "mimetype": "text/x-python",
      "name": "python",
      "nbconvert_exporter": "python",
      "pygments_lexer": "ipython3",
      "version": "3.8"
    },
    "kernelspec": {
      "name": "python",
      "display_name": "Python (Pyodide)",
      "language": "python"
    }
  },
  "nbformat_minor": 4,
  "nbformat": 4,
  "cells": [
    {
      "cell_type": "markdown",
      "source": "UNIDAD DIDÁCTICA 1\nDIPLOMATURA EN PYTHON.\n\n- Módulo I – Nivel Inicial I\n- Unidad I – Introducción\n",
      "metadata": {}
    },
    {
      "cell_type": "markdown",
      "source": "Ejercicio 1:\n\nCree un programa que tome tres valores por consola multiplique el primero por el segundo y le sume el tercero.\nPresente el resultado en la terminal.",
      "metadata": {}
    },
    {
      "cell_type": "raw",
      "source": "sadfas",
      "metadata": {}
    }
  ]
}